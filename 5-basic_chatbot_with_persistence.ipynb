{
 "cells": [
  {
   "metadata": {
    "ExecuteTime": {
     "end_time": "2025-07-26T01:16:26.090446Z",
     "start_time": "2025-07-26T01:16:26.079574Z"
    }
   },
   "cell_type": "code",
   "source": [
    "from langgraph.graph import StateGraph, START, END\n",
    "from langchain_openai import ChatOpenAI\n",
    "from langgraph.checkpoint.memory import MemorySaver\n",
    "from dotenv import load_dotenv\n",
    "import uuid\n",
    "from langchain_core.messages.base import BaseMessage\n",
    "from langchain_core.messages import HumanMessage, AIMessage\n",
    "from langgraph.graph.message import add_messages\n",
    "from typing import TypedDict, Annotated"
   ],
   "id": "97a2056972718ca4",
   "outputs": [],
   "execution_count": 10
  },
  {
   "metadata": {
    "ExecuteTime": {
     "end_time": "2025-07-26T01:14:26.706336Z",
     "start_time": "2025-07-26T01:14:25.422075Z"
    }
   },
   "cell_type": "code",
   "source": [
    "load_dotenv()\n",
    "model = ChatOpenAI()"
   ],
   "id": "64ea2e439489ff4a",
   "outputs": [],
   "execution_count": 8
  },
  {
   "metadata": {
    "ExecuteTime": {
     "end_time": "2025-07-26T01:27:45.300532Z",
     "start_time": "2025-07-26T01:27:45.287635Z"
    }
   },
   "cell_type": "code",
   "source": [
    "class ChatState(TypedDict):\n",
    "    messages: Annotated[list[BaseMessage], add_messages]"
   ],
   "id": "2d13a386a9b41191",
   "outputs": [],
   "execution_count": 22
  },
  {
   "metadata": {
    "ExecuteTime": {
     "end_time": "2025-07-26T01:27:46.898242Z",
     "start_time": "2025-07-26T01:27:46.887240Z"
    }
   },
   "cell_type": "code",
   "source": [
    "def chat_func(state: ChatState):\n",
    "\n",
    "    messages = state[\"messages\"]\n",
    "\n",
    "    response = model.invoke(messages)\n",
    "\n",
    "    return {\"messages\": [response]}"
   ],
   "id": "1531bd2eaa5451d1",
   "outputs": [],
   "execution_count": 23
  },
  {
   "metadata": {
    "ExecuteTime": {
     "end_time": "2025-07-26T01:27:47.316630Z",
     "start_time": "2025-07-26T01:27:47.303626Z"
    }
   },
   "cell_type": "code",
   "source": [
    "graph = StateGraph(ChatState)\n",
    "\n",
    "graph.add_node(\"chat_func\", chat_func)\n",
    "\n",
    "graph.add_edge(START, \"chat_func\")\n",
    "graph.add_edge(\"chat_func\", END)\n",
    "\n",
    "checkpointer = MemorySaver()\n",
    "chatbot = graph.compile(checkpointer=checkpointer)"
   ],
   "id": "a22dc04ebfddf48f",
   "outputs": [],
   "execution_count": 24
  },
  {
   "metadata": {
    "ExecuteTime": {
     "end_time": "2025-07-26T01:27:48.183014Z",
     "start_time": "2025-07-26T01:27:48.036550Z"
    }
   },
   "cell_type": "code",
   "source": "chatbot",
   "id": "d1c0cbacb2157823",
   "outputs": [
    {
     "data": {
      "text/plain": [
       "<langgraph.graph.state.CompiledStateGraph object at 0x000001CB2BA4B130>"
      ],
      "image/png": "[encoded data removed]"
     },
     "execution_count": 25,
     "metadata": {},
     "output_type": "execute_result"
    }
   ],
   "execution_count": 25
  },
  {
   "metadata": {
    "ExecuteTime": {
     "end_time": "2025-07-26T01:38:08.970743Z",
     "start_time": "2025-07-26T01:37:27.169342Z"
    }
   },
   "cell_type": "code",
   "source": [
    "thread_id = uuid.uuid4()\n",
    "\n",
    "while True:\n",
    "\n",
    "    user_query = input(\"Enter a message: \")\n",
    "    print(\"Human: \", user_query)\n",
    "\n",
    "    if user_query.strip().lower() in [\"bye\", \"quit\", \"exit\"]:\n",
    "        print(\"AI: Goodbye\")\n",
    "        break\n",
    "\n",
    "\n",
    "    initial_state = {\n",
    "    'messages': [HumanMessage(content=user_query)]\n",
    "}\n",
    "    config = {\n",
    "        \"configurable\": {\n",
    "            \"thread_id\": str(thread_id),\n",
    "        }\n",
    "    }\n",
    "\n",
    "    response = chatbot.invoke(initial_state, config=config)\n",
    "\n",
    "    print(\"AI: \", response[\"messages\"][-1].content)"
   ],
   "id": "c4022dd0ab656a5f",
   "outputs": [
    {
     "name": "stdout",
     "output_type": "stream",
     "text": [
      "Human:  HI\n",
      "AI:  Hello! How can I assist you today?\n",
      "Human:  My name is Raza\n",
      "AI:  Nice to meet you, Raza! How can I help you today?\n",
      "Human:  What is my Name?\n",
      "AI:  Your name is Raza.\n",
      "Human:  Add 100 to 100\n",
      "AI:  100 + 100 equals 200.\n",
      "Human:  Now add 1000 to it\n",
      "AI:  Sure! Adding 1000 to 200 equals 1200.\n",
      "Human:  \n",
      "AI:  Is there anything else you would like to know or discuss? Feel free to ask!\n",
      "Human:  My name?\n",
      "AI:  Your name is Raza.\n"
     ]
    },
    {
     "ename": "KeyboardInterrupt",
     "evalue": "Interrupted by user",
     "output_type": "error",
     "traceback": [
      "\u001B[1;31m---------------------------------------------------------------------------\u001B[0m",
      "\u001B[1;31mKeyboardInterrupt\u001B[0m                         Traceback (most recent call last)",
      "Cell \u001B[1;32mIn[35], line 5\u001B[0m\n\u001B[0;32m      1\u001B[0m thread_id \u001B[38;5;241m=\u001B[39m uuid\u001B[38;5;241m.\u001B[39muuid4()\n\u001B[0;32m      3\u001B[0m \u001B[38;5;28;01mwhile\u001B[39;00m \u001B[38;5;28;01mTrue\u001B[39;00m:\n\u001B[1;32m----> 5\u001B[0m     user_query \u001B[38;5;241m=\u001B[39m \u001B[38;5;28;43minput\u001B[39;49m\u001B[43m(\u001B[49m\u001B[38;5;124;43m\"\u001B[39;49m\u001B[38;5;124;43mEnter a message: \u001B[39;49m\u001B[38;5;124;43m\"\u001B[39;49m\u001B[43m)\u001B[49m\n\u001B[0;32m      6\u001B[0m     \u001B[38;5;28mprint\u001B[39m(\u001B[38;5;124m\"\u001B[39m\u001B[38;5;124mHuman: \u001B[39m\u001B[38;5;124m\"\u001B[39m, user_query)\n\u001B[0;32m      8\u001B[0m     \u001B[38;5;28;01mif\u001B[39;00m user_query\u001B[38;5;241m.\u001B[39mstrip()\u001B[38;5;241m.\u001B[39mlower() \u001B[38;5;129;01min\u001B[39;00m [\u001B[38;5;124m\"\u001B[39m\u001B[38;5;124mbye\u001B[39m\u001B[38;5;124m\"\u001B[39m, \u001B[38;5;124m\"\u001B[39m\u001B[38;5;124mquit\u001B[39m\u001B[38;5;124m\"\u001B[39m, \u001B[38;5;124m\"\u001B[39m\u001B[38;5;124mexit\u001B[39m\u001B[38;5;124m\"\u001B[39m]:\n",
      "File \u001B[1;32mD:\\Data Science\\My Projects\\Langgraph Tutorials\\venv\\lib\\site-packages\\ipykernel\\kernelbase.py:1282\u001B[0m, in \u001B[0;36mKernel.raw_input\u001B[1;34m(self, prompt)\u001B[0m\n\u001B[0;32m   1280\u001B[0m     msg \u001B[38;5;241m=\u001B[39m \u001B[38;5;124m\"\u001B[39m\u001B[38;5;124mraw_input was called, but this frontend does not support input requests.\u001B[39m\u001B[38;5;124m\"\u001B[39m\n\u001B[0;32m   1281\u001B[0m     \u001B[38;5;28;01mraise\u001B[39;00m StdinNotImplementedError(msg)\n\u001B[1;32m-> 1282\u001B[0m \u001B[38;5;28;01mreturn\u001B[39;00m \u001B[38;5;28;43mself\u001B[39;49m\u001B[38;5;241;43m.\u001B[39;49m\u001B[43m_input_request\u001B[49m\u001B[43m(\u001B[49m\n\u001B[0;32m   1283\u001B[0m \u001B[43m    \u001B[49m\u001B[38;5;28;43mstr\u001B[39;49m\u001B[43m(\u001B[49m\u001B[43mprompt\u001B[49m\u001B[43m)\u001B[49m\u001B[43m,\u001B[49m\n\u001B[0;32m   1284\u001B[0m \u001B[43m    \u001B[49m\u001B[38;5;28;43mself\u001B[39;49m\u001B[38;5;241;43m.\u001B[39;49m\u001B[43m_parent_ident\u001B[49m\u001B[43m[\u001B[49m\u001B[38;5;124;43m\"\u001B[39;49m\u001B[38;5;124;43mshell\u001B[39;49m\u001B[38;5;124;43m\"\u001B[39;49m\u001B[43m]\u001B[49m\u001B[43m,\u001B[49m\n\u001B[0;32m   1285\u001B[0m \u001B[43m    \u001B[49m\u001B[38;5;28;43mself\u001B[39;49m\u001B[38;5;241;43m.\u001B[39;49m\u001B[43mget_parent\u001B[49m\u001B[43m(\u001B[49m\u001B[38;5;124;43m\"\u001B[39;49m\u001B[38;5;124;43mshell\u001B[39;49m\u001B[38;5;124;43m\"\u001B[39;49m\u001B[43m)\u001B[49m\u001B[43m,\u001B[49m\n\u001B[0;32m   1286\u001B[0m \u001B[43m    \u001B[49m\u001B[43mpassword\u001B[49m\u001B[38;5;241;43m=\u001B[39;49m\u001B[38;5;28;43;01mFalse\u001B[39;49;00m\u001B[43m,\u001B[49m\n\u001B[0;32m   1287\u001B[0m \u001B[43m\u001B[49m\u001B[43m)\u001B[49m\n",
      "File \u001B[1;32mD:\\Data Science\\My Projects\\Langgraph Tutorials\\venv\\lib\\site-packages\\ipykernel\\kernelbase.py:1325\u001B[0m, in \u001B[0;36mKernel._input_request\u001B[1;34m(self, prompt, ident, parent, password)\u001B[0m\n\u001B[0;32m   1322\u001B[0m \u001B[38;5;28;01mexcept\u001B[39;00m \u001B[38;5;167;01mKeyboardInterrupt\u001B[39;00m:\n\u001B[0;32m   1323\u001B[0m     \u001B[38;5;66;03m# re-raise KeyboardInterrupt, to truncate traceback\u001B[39;00m\n\u001B[0;32m   1324\u001B[0m     msg \u001B[38;5;241m=\u001B[39m \u001B[38;5;124m\"\u001B[39m\u001B[38;5;124mInterrupted by user\u001B[39m\u001B[38;5;124m\"\u001B[39m\n\u001B[1;32m-> 1325\u001B[0m     \u001B[38;5;28;01mraise\u001B[39;00m \u001B[38;5;167;01mKeyboardInterrupt\u001B[39;00m(msg) \u001B[38;5;28;01mfrom\u001B[39;00m\u001B[38;5;250m \u001B[39m\u001B[38;5;28;01mNone\u001B[39;00m\n\u001B[0;32m   1326\u001B[0m \u001B[38;5;28;01mexcept\u001B[39;00m \u001B[38;5;167;01mException\u001B[39;00m:\n\u001B[0;32m   1327\u001B[0m     \u001B[38;5;28mself\u001B[39m\u001B[38;5;241m.\u001B[39mlog\u001B[38;5;241m.\u001B[39mwarning(\u001B[38;5;124m\"\u001B[39m\u001B[38;5;124mInvalid Message:\u001B[39m\u001B[38;5;124m\"\u001B[39m, exc_info\u001B[38;5;241m=\u001B[39m\u001B[38;5;28;01mTrue\u001B[39;00m)\n",
      "\u001B[1;31mKeyboardInterrupt\u001B[0m: Interrupted by user"
     ]
    }
   ],
   "execution_count": 35
  },
  {
   "metadata": {},
   "cell_type": "code",
   "outputs": [],
   "execution_count": null,
   "source": "",
   "id": "ebfd417b97afc4f8"
  }
 ],
 "metadata": {
  "kernelspec": {
   "display_name": "Python 3",
   "language": "python",
   "name": "python3"
  },
  "language_info": {
   "codemirror_mode": {
    "name": "ipython",
    "version": 2
   },
   "file_extension": ".py",
   "mimetype": "text/x-python",
   "name": "python",
   "nbconvert_exporter": "python",
   "pygments_lexer": "ipython2",
   "version": "2.7.6"
  }
 },
 "nbformat": 4,
 "nbformat_minor": 5
}
