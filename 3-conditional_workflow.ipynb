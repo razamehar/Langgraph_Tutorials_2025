{
 "cells": [
  {
   "metadata": {
    "ExecuteTime": {
     "end_time": "2025-07-22T00:07:35.105676Z",
     "start_time": "2025-07-22T00:07:33.911150Z"
    }
   },
   "cell_type": "code",
   "source": [
    "from langgraph.graph import StateGraph, START, END\n",
    "from langchain_openai import ChatOpenAI\n",
    "from dotenv import load_dotenv\n",
    "from typing import TypedDict, Literal\n",
    "from pydantic import BaseModel, Field"
   ],
   "id": "b032e154b5ba66c",
   "outputs": [],
   "execution_count": 1
  },
  {
   "metadata": {
    "ExecuteTime": {
     "end_time": "2025-07-22T00:07:35.136818Z",
     "start_time": "2025-07-22T00:07:35.117666Z"
    }
   },
   "cell_type": "code",
   "source": "load_dotenv()",
   "id": "96881097ec69a214",
   "outputs": [
    {
     "data": {
      "text/plain": [
       "True"
      ]
     },
     "execution_count": 2,
     "metadata": {},
     "output_type": "execute_result"
    }
   ],
   "execution_count": 2
  },
  {
   "metadata": {
    "ExecuteTime": {
     "end_time": "2025-07-22T00:07:35.773377Z",
     "start_time": "2025-07-22T00:07:35.747710Z"
    }
   },
   "cell_type": "code",
   "source": [
    "class SentimentSchema(BaseModel):\n",
    "    sentiment: Literal[\"positive\", \"negative\"] = Field(description='Sentiment of the review')\n",
    "\n",
    "class DiagnosisSchema(BaseModel):\n",
    "    issue_type: Literal[\"UX\", \"Performance\", \"Bug\", \"Support\", \"Other\"] = Field(description='The category of issue mentioned in the review')\n",
    "    tone: Literal[\"angry\", \"frustrated\", \"disappointed\", \"calm\"] = Field(description='The emotional tone expressed by the user')\n",
    "    urgency: Literal[\"low\", \"medium\", \"high\"] = Field(description='How urgent or critical the issue appears to be')\n",
    "\n",
    "class ReviewState(TypedDict):\n",
    "    review: str\n",
    "    sentiment: Literal[\"positive\", \"negative\"]\n",
    "    diagnosis: dict\n",
    "    response: str"
   ],
   "id": "b7039e8d4b58c005",
   "outputs": [],
   "execution_count": 3
  },
  {
   "metadata": {
    "ExecuteTime": {
     "end_time": "2025-07-22T00:07:36.819442Z",
     "start_time": "2025-07-22T00:07:36.455710Z"
    }
   },
   "cell_type": "code",
   "source": [
    "model = ChatOpenAI()\n",
    "\n",
    "structured_model1 = model.with_structured_output(SentimentSchema)\n",
    "structured_model2 = model.with_structured_output(DiagnosisSchema)"
   ],
   "id": "f4581ebfcbaf71b8",
   "outputs": [
    {
     "name": "stderr",
     "output_type": "stream",
     "text": [
      "D:\\Data Science\\My Projects\\Langgraph Tutorials\\venv\\lib\\site-packages\\langchain_openai\\chat_models\\base.py:1857: UserWarning: Cannot use method='json_schema' with model gpt-3.5-turbo since it doesn't support OpenAI's Structured Output API. You can see supported models here: https://platform.openai.com/docs/guides/structured-outputs#supported-models. To fix this warning, set `method='function_calling'. Overriding to method='function_calling'.\n",
      "  warnings.warn(\n"
     ]
    }
   ],
   "execution_count": 4
  },
  {
   "metadata": {
    "ExecuteTime": {
     "end_time": "2025-07-22T00:07:37.084260Z",
     "start_time": "2025-07-22T00:07:37.058713Z"
    }
   },
   "cell_type": "code",
   "source": [
    "def analyze_sentiment(state: ReviewState):\n",
    "    prompt = f'Analyze sentiment of the following review: {state[\"review\"]}'\n",
    "    sentiment = structured_model1.invoke(prompt).sentiment\n",
    "    return {\"sentiment\": sentiment}\n",
    "\n",
    "def positive_response(state: ReviewState):\n",
    "    prompt = f'Generate a positive response for the customer to the following review: {state[\"review\"]}'\n",
    "    response = model.invoke(prompt).content\n",
    "    return {\"response\": response}\n",
    "\n",
    "def run_diagnosis(state: ReviewState):\n",
    "    prompt = f\"Analyse the negative review: {state['review']} and return issue_type, tone, and urgency.\"\n",
    "    response = structured_model2.invoke(prompt)\n",
    "    return {'diagnosis': response.model_dump()}\n",
    "\n",
    "def negative_response(state: ReviewState):\n",
    "    diagnosis = state['diagnosis']\n",
    "    prompt = (\n",
    "        f\"You are a support assistant. The user had a '{diagnosis['issue_type']}' issue, \"\n",
    "        f\"sounded '{diagnosis['tone']}', and marked urgency as '{diagnosis['urgency']}'. \"\n",
    "        f\"Write an empathetic, helpful resolution message.\"\n",
    "    )\n",
    "    response = model.invoke(prompt).content\n",
    "    return {\"response\": response}\n",
    "\n",
    "def check_sentiment(state: ReviewState):\n",
    "    response = state['sentiment']\n",
    "    if response == \"positive\":\n",
    "        return \"positive_response\"\n",
    "    else:\n",
    "        return \"run_diagnosis\""
   ],
   "id": "ff7156794333eb5e",
   "outputs": [],
   "execution_count": 5
  },
  {
   "metadata": {
    "ExecuteTime": {
     "end_time": "2025-07-22T00:09:40.254402Z",
     "start_time": "2025-07-22T00:09:40.223393Z"
    }
   },
   "cell_type": "code",
   "source": [
    "graph = StateGraph(ReviewState)\n",
    "\n",
    "graph.add_node(\"analyze_sentiment\", analyze_sentiment)\n",
    "graph.add_node(\"positive_response\", positive_response)\n",
    "graph.add_node(\"run_diagnosis\", run_diagnosis)\n",
    "graph.add_node(\"negative_response\", negative_response)\n",
    "\n",
    "graph.add_edge(START, \"analyze_sentiment\")\n",
    "graph.add_conditional_edges(\"analyze_sentiment\", check_sentiment,\n",
    "                            {\n",
    "                                \"positive_response\": END,\n",
    "                                \"run_diagnosis\": \"negative_response\"\n",
    "                            })\n",
    "\n",
    "workflow2 = graph.compile()"
   ],
   "id": "c8e48f23675732f4",
   "outputs": [],
   "execution_count": 10
  },
  {
   "metadata": {
    "ExecuteTime": {
     "end_time": "2025-07-22T00:09:41.289804Z",
     "start_time": "2025-07-22T00:09:40.708544Z"
    }
   },
   "cell_type": "code",
   "source": "workflow2",
   "id": "c33a6ab61d097f47",
   "outputs": [
    {
     "data": {
      "text/plain": [
       "<langgraph.graph.state.CompiledStateGraph object at 0x0000027A5A8271C0>"
      ],
      "image/png": "[encoded data removed]"
     },
     "execution_count": 11,
     "metadata": {},
     "output_type": "execute_result"
    }
   ],
   "execution_count": 11
  },
  {
   "metadata": {
    "ExecuteTime": {
     "end_time": "2025-07-20T00:33:19.053616Z",
     "start_time": "2025-07-20T00:33:13.268959Z"
    }
   },
   "cell_type": "code",
   "source": [
    "intial_state={\n",
    "    'review': \"I’ve been trying to log in for over an hour now, and the app keeps freezing on the authentication screen. I even tried reinstalling it, but no luck. This kind of bug is unacceptable, especially when it affects basic functionality.\"\n",
    "}\n",
    "workflow2.invoke(intial_state)"
   ],
   "id": "6dd381d4d2ef7eb4",
   "outputs": [
    {
     "data": {
      "text/plain": [
       "{'review': 'I’ve been trying to log in for over an hour now, and the app keeps freezing on the authentication screen. I even tried reinstalling it, but no luck. This kind of bug is unacceptable, especially when it affects basic functionality.',\n",
       " 'sentiment': 'negative',\n",
       " 'diagnosis': {'issue_type': 'Bug', 'tone': 'frustrated', 'urgency': 'high'},\n",
       " 'response': \"I'm really sorry to hear that you're experiencing a bug issue, and I understand how frustrating that must be. I will prioritize this issue with the highest urgency and escalate it to our technical team immediately. Rest assured, we will work diligently to resolve this issue as quickly as possible. Thank you for bringing it to our attention. We appreciate your patience and understanding.\"}"
      ]
     },
     "execution_count": 48,
     "metadata": {},
     "output_type": "execute_result"
    }
   ],
   "execution_count": 48
  },
  {
   "metadata": {},
   "cell_type": "code",
   "outputs": [],
   "execution_count": null,
   "source": "",
   "id": "69e20c1f72b3f233"
  }
 ],
 "metadata": {
  "kernelspec": {
   "display_name": "Python 3",
   "language": "python",
   "name": "python3"
  },
  "language_info": {
   "codemirror_mode": {
    "name": "ipython",
    "version": 2
   },
   "file_extension": ".py",
   "mimetype": "text/x-python",
   "name": "python",
   "nbconvert_exporter": "python",
   "pygments_lexer": "ipython2",
   "version": "2.7.6"
  }
 },
 "nbformat": 4,
 "nbformat_minor": 5
}
