{
 "cells": [
  {
   "cell_type": "code",
   "id": "initial_id",
   "metadata": {
    "collapsed": true,
    "ExecuteTime": {
     "end_time": "2025-07-21T23:54:30.000818Z",
     "start_time": "2025-07-21T23:54:29.973418Z"
    }
   },
   "source": [
    "from langgraph.graph import StateGraph, START, END\n",
    "from langchain_openai import ChatOpenAI\n",
    "from dotenv import load_dotenv\n",
    "from typing import TypedDict, Literal, Annotated\n",
    "from pydantic import BaseModel\n",
    "from langchain_core.messages import SystemMessage, HumanMessage\n",
    "import operator"
   ],
   "outputs": [],
   "execution_count": 41
  },
  {
   "metadata": {
    "ExecuteTime": {
     "end_time": "2025-07-21T23:13:07.907396Z",
     "start_time": "2025-07-21T23:13:07.883053Z"
    }
   },
   "cell_type": "code",
   "source": "load_dotenv()",
   "id": "a9514866d7ab19ba",
   "outputs": [
    {
     "data": {
      "text/plain": [
       "True"
      ]
     },
     "execution_count": 2,
     "metadata": {},
     "output_type": "execute_result"
    }
   ],
   "execution_count": 2
  },
  {
   "metadata": {
    "ExecuteTime": {
     "end_time": "2025-07-21T23:56:04.002793Z",
     "start_time": "2025-07-21T23:56:03.964213Z"
    }
   },
   "cell_type": "code",
   "source": [
    "class PostState(TypedDict):\n",
    "    topic: str\n",
    "    post: str\n",
    "    status: Literal[\"approved\", \"needs_improvement\"]\n",
    "    feedback: str\n",
    "    count_iterations: int\n",
    "\n",
    "    post_history: Annotated[list[str], operator.add]\n",
    "    feedback_history: Annotated[list[str], operator.add]"
   ],
   "id": "cbcf1632fe4353c8",
   "outputs": [],
   "execution_count": 45
  },
  {
   "metadata": {
    "ExecuteTime": {
     "end_time": "2025-07-21T23:34:04.964061Z",
     "start_time": "2025-07-21T23:34:04.922413Z"
    }
   },
   "cell_type": "code",
   "source": [
    "class Status(BaseModel):\n",
    "    status: Literal[\"approved\", \"needs_improvement\"]\n",
    "    feedback: str"
   ],
   "id": "82095985888e1807",
   "outputs": [],
   "execution_count": 13
  },
  {
   "metadata": {
    "ExecuteTime": {
     "end_time": "2025-07-22T00:00:08.556268Z",
     "start_time": "2025-07-22T00:00:08.430278Z"
    }
   },
   "cell_type": "code",
   "source": [
    "model = ChatOpenAI(model='gpt-4o')\n",
    "model_with_structured_output = model.with_structured_output(Status)"
   ],
   "id": "34f956607056dd12",
   "outputs": [],
   "execution_count": 61
  },
  {
   "metadata": {
    "ExecuteTime": {
     "end_time": "2025-07-22T00:00:09.428680Z",
     "start_time": "2025-07-22T00:00:09.402099Z"
    }
   },
   "cell_type": "code",
   "source": [
    "def generate_post(state: PostState):\n",
    "    messages = [\n",
    "        SystemMessage(content=\"You are a smart social media influencer.\"),\n",
    "        HumanMessage(content=f\"\"\"\n",
    "Write a short and original post on the topic: \"{state['topic']}\".\n",
    "\n",
    "Rules:\n",
    "- Do NOT use question-answer format.\n",
    "- Max 280 characters.\n",
    "- Use simple, day to day english syntax and grammar.\n",
    "\"\"\")\n",
    "    ]\n",
    "\n",
    "    post = model.invoke(messages).content.strip()\n",
    "\n",
    "    return {\"post\": post, \"post_history\": [post]}"
   ],
   "id": "1a59e4d6ecd3be11",
   "outputs": [],
   "execution_count": 62
  },
  {
   "metadata": {
    "ExecuteTime": {
     "end_time": "2025-07-22T00:02:57.462282Z",
     "start_time": "2025-07-22T00:02:57.441283Z"
    }
   },
   "cell_type": "code",
   "source": [
    "def evaluate_post(state: PostState):\n",
    "    messages = [\n",
    "        SystemMessage(content=\"You are a strict but helpful social media content reviewer.\"),\n",
    "        HumanMessage(content=f\"\"\"\n",
    "Evaluate the following social media post based on the topic and rules below.\n",
    "\n",
    "Topic: \"{state['topic']}\"\n",
    "Post: \"{state['post']}\"\n",
    "\n",
    "Your task is to:\n",
    "1. Give a one-word evaluation: \"approved\" or \"needs_improvement\"\n",
    "2. Provide a short, constructive feedback message (1–2 sentences)\n",
    "\n",
    "Rejection Criteria:\n",
    "- The post is written in a question-answer format\n",
    "- The post contains gibberish or random text\n",
    "- The post lacks clarity or does not make sense\n",
    "- The post contains emojis\n",
    "- The post contains \"!\"\n",
    "- The post contains em dashes\n",
    "\n",
    "Respond only in this format:\n",
    "status: <approved or needs_improvement>\n",
    "feedback: <short explanation>\n",
    "\"\"\")\n",
    "    ]\n",
    "\n",
    "    response = model_with_structured_output.invoke(messages)\n",
    "    return {\"status\": response.status, \"feedback\": response.feedback, \"feedback_history\": [response.feedback]}"
   ],
   "id": "6fb57a97845a320f",
   "outputs": [],
   "execution_count": 72
  },
  {
   "metadata": {
    "ExecuteTime": {
     "end_time": "2025-07-22T00:02:57.962282Z",
     "start_time": "2025-07-22T00:02:57.951283Z"
    }
   },
   "cell_type": "code",
   "source": [
    "def revise_post(state: PostState) -> dict:\n",
    "    messages = [\n",
    "        SystemMessage(content=\"You are a smart and helpful social media content writer, editor and reviewer.\"),\n",
    "        HumanMessage(content=f\"\"\"\n",
    "Revise the following post \"{state['post']}\" based on the topic \"{state['topic']}\" and feedback \"{state['feedback']}\".\n",
    "\n",
    "Rules:\n",
    "- Do NOT use question-answer format.\n",
    "- Max 280 characters.\n",
    "- Use simple, day to day english syntax and grammar.\n",
    "\n",
    "Give the improved post only.\n",
    "\"\"\")\n",
    "    ]\n",
    "\n",
    "    revised_post = model.invoke(messages).content.strip()\n",
    "    count_iterations = state[\"count_iterations\"] + 1\n",
    "    return {\"revised_post\": revised_post, \"count_iterations\": count_iterations, \"post_history\": [revised_post]}"
   ],
   "id": "b2c1b2cbc0f1dfc3",
   "outputs": [],
   "execution_count": 73
  },
  {
   "metadata": {
    "ExecuteTime": {
     "end_time": "2025-07-22T00:02:58.477648Z",
     "start_time": "2025-07-22T00:02:58.466647Z"
    }
   },
   "cell_type": "code",
   "source": [
    "def check_status(state: PostState):\n",
    "    status = state[\"status\"]\n",
    "    count_iterations = state[\"count_iterations\"]\n",
    "\n",
    "    if status == \"approved\" or count_iterations == 5:\n",
    "        return \"approved\"\n",
    "    else:\n",
    "        return \"needs_improvement\""
   ],
   "id": "f5e20171a792c0cf",
   "outputs": [],
   "execution_count": 74
  },
  {
   "metadata": {
    "ExecuteTime": {
     "end_time": "2025-07-22T00:02:59.381153Z",
     "start_time": "2025-07-22T00:02:58.923632Z"
    }
   },
   "cell_type": "code",
   "source": [
    "graph = StateGraph(PostState)\n",
    "\n",
    "graph.add_node(\"generate_post\", generate_post)\n",
    "graph.add_node(\"evaluate_post\", evaluate_post)\n",
    "graph.add_node(\"revise_post\", revise_post)\n",
    "\n",
    "graph.add_edge(START, \"generate_post\")\n",
    "graph.add_edge(\"generate_post\", \"evaluate_post\")\n",
    "graph.add_conditional_edges(\"evaluate_post\", check_status,\n",
    "                            {\n",
    "                                \"approved\": END,\n",
    "                                \"needs_improvement\": \"revise_post\",\n",
    "                            })\n",
    "\n",
    "graph.add_edge(\"revise_post\", \"evaluate_post\")\n",
    "workflow = graph.compile()\n",
    "workflow"
   ],
   "id": "c536d85e41791b57",
   "outputs": [
    {
     "data": {
      "text/plain": [
       "<langgraph.graph.state.CompiledStateGraph object at 0x0000029F22D44790>"
      ],
      "image/png": "[encoded data removed]"
     },
     "execution_count": 75,
     "metadata": {},
     "output_type": "execute_result"
    }
   ],
   "execution_count": 75
  },
  {
   "metadata": {
    "ExecuteTime": {
     "end_time": "2025-07-22T00:04:33.400993Z",
     "start_time": "2025-07-22T00:04:14.206289Z"
    }
   },
   "cell_type": "code",
   "source": [
    "intial_state = {\n",
    "    \"topic\": \"AI in Pakistan\",\n",
    "    \"count_iterations\": 1,\n",
    "}\n",
    "\n",
    "result = workflow.invoke(intial_state)"
   ],
   "id": "d1cc54bb1cd039cb",
   "outputs": [],
   "execution_count": 77
  },
  {
   "metadata": {
    "ExecuteTime": {
     "end_time": "2025-07-22T00:05:16.298619Z",
     "start_time": "2025-07-22T00:05:16.287112Z"
    }
   },
   "cell_type": "code",
   "source": "result",
   "id": "c2fc6d50ee368ca4",
   "outputs": [
    {
     "data": {
      "text/plain": [
       "{'topic': 'AI in Pakistan',\n",
       " 'post': 'Pakistan is embracing the AI wave! From smart cities to healthcare innovation, the country is weaving tech into its fabric. Young minds and startups are leading the charge, crafting solutions that promise a brighter, data-driven future. 🌟#AIPakistan #Innovation',\n",
       " 'status': 'needs_improvement',\n",
       " 'feedback': 'Remove the emoji and exclamation marks for a more polished presentation while maintaining engagement with the topic.',\n",
       " 'count_iterations': 5,\n",
       " 'post_history': ['Pakistan is embracing the AI wave! From smart cities to healthcare innovation, the country is weaving tech into its fabric. Young minds and startups are leading the charge, crafting solutions that promise a brighter, data-driven future. 🌟#AIPakistan #Innovation',\n",
       "  'Pakistan is embracing the AI wave. From smart cities to healthcare innovation, the country is integrating technology into its fabric. Young minds and startups are leading the charge, crafting solutions that promise a brighter, data-driven future. #AIPakistan #Innovation',\n",
       "  'Pakistan is embracing the AI wave. From smart cities to healthcare innovation, technology is becoming part of everyday life. Young minds and startups are leading the way, creating solutions for a brighter, data-driven future. #AIPakistan #Innovation',\n",
       "  'Pakistan is embracing AI, integrating technology into everything from smart cities to healthcare. Young minds and startups are at the forefront, creating solutions for a promising, data-driven future. #AIPakistan #Innovation',\n",
       "  'Pakistan is embracing the AI wave. From smart cities to healthcare innovation, the country is integrating tech into its core. Young minds and startups are leading the charge, crafting solutions that promise a brighter, data-driven future. #AIPakistan #Innovation'],\n",
       " 'feedback_history': ['The post contains emojis and an exclamation mark, which are against the formatting guidelines. Consider removing these elements to meet the criteria.',\n",
       "  'The post contains an emoji and an exclamation mark, which are against the specified criteria.',\n",
       "  'The post contains an emoji and exclamation mark, which go against the content rules.',\n",
       "  'The post includes an exclamation mark and emoji, which are not allowed according to the rejection criteria.',\n",
       "  'Remove the emoji and exclamation marks for a more polished presentation while maintaining engagement with the topic.']}"
      ]
     },
     "execution_count": 82,
     "metadata": {},
     "output_type": "execute_result"
    }
   ],
   "execution_count": 82
  },
  {
   "metadata": {
    "ExecuteTime": {
     "end_time": "2025-07-22T00:05:05.778821Z",
     "start_time": "2025-07-22T00:05:05.769825Z"
    }
   },
   "cell_type": "code",
   "source": "result[\"post_history\"][-1]",
   "id": "cae16c42a48de9d",
   "outputs": [
    {
     "data": {
      "text/plain": [
       "'Pakistan is embracing the AI wave. From smart cities to healthcare innovation, the country is integrating tech into its core. Young minds and startups are leading the charge, crafting solutions that promise a brighter, data-driven future. #AIPakistan #Innovation'"
      ]
     },
     "execution_count": 81,
     "metadata": {},
     "output_type": "execute_result"
    }
   ],
   "execution_count": 81
  },
  {
   "metadata": {},
   "cell_type": "code",
   "outputs": [],
   "execution_count": null,
   "source": "",
   "id": "27b8625f490de172"
  }
 ],
 "metadata": {
  "kernelspec": {
   "display_name": "Python 3",
   "language": "python",
   "name": "python3"
  },
  "language_info": {
   "codemirror_mode": {
    "name": "ipython",
    "version": 2
   },
   "file_extension": ".py",
   "mimetype": "text/x-python",
   "name": "python",
   "nbconvert_exporter": "python",
   "pygments_lexer": "ipython2",
   "version": "2.7.6"
  }
 },
 "nbformat": 4,
 "nbformat_minor": 5
}
