{
 "cells": [
  {
   "cell_type": "code",
   "id": "initial_id",
   "metadata": {
    "collapsed": true,
    "ExecuteTime": {
     "end_time": "2025-07-14T21:09:15.114040Z",
     "start_time": "2025-07-14T21:09:15.087334Z"
    }
   },
   "source": [
    "from langgraph.graph import StateGraph, START, END\n",
    "from langchain_openai import ChatOpenAI\n",
    "from dotenv import load_dotenv\n",
    "from typing import TypedDict, Annotated\n",
    "from pydantic import BaseModel, Field\n",
    "import operator"
   ],
   "outputs": [],
   "execution_count": 3
  },
  {
   "metadata": {
    "ExecuteTime": {
     "end_time": "2025-07-14T21:07:11.267739Z",
     "start_time": "2025-07-14T21:07:11.253742Z"
    }
   },
   "cell_type": "code",
   "source": "load_dotenv()",
   "id": "92fa0d082f4fe05e",
   "outputs": [
    {
     "data": {
      "text/plain": [
       "True"
      ]
     },
     "execution_count": 2,
     "metadata": {},
     "output_type": "execute_result"
    }
   ],
   "execution_count": 2
  },
  {
   "metadata": {
    "ExecuteTime": {
     "end_time": "2025-07-14T21:31:43.275180Z",
     "start_time": "2025-07-14T21:31:43.263179Z"
    }
   },
   "cell_type": "code",
   "source": [
    "class FeedbackSchema(BaseModel):\n",
    "    feedback: str = Field(description=\"Detailed feedback on the essay\")\n",
    "    score: int = Field(description=\"Score on the essay from 1 to 10\", ge=0, le=10)"
   ],
   "id": "c222015e23effd0d",
   "outputs": [],
   "execution_count": 26
  },
  {
   "metadata": {
    "ExecuteTime": {
     "end_time": "2025-07-14T21:32:42.144202Z",
     "start_time": "2025-07-14T21:32:42.123694Z"
    }
   },
   "cell_type": "code",
   "source": [
    "model = ChatOpenAI()\n",
    "model_with_structured_output = model.with_structured_output(FeedbackSchema)"
   ],
   "id": "19062a91a801384e",
   "outputs": [
    {
     "name": "stderr",
     "output_type": "stream",
     "text": [
      "D:\\Data Science\\My Projects\\Langgraph Tutorials\\venv\\lib\\site-packages\\langchain_openai\\chat_models\\base.py:1857: UserWarning: Cannot use method='json_schema' with model gpt-3.5-turbo since it doesn't support OpenAI's Structured Output API. You can see supported models here: https://platform.openai.com/docs/guides/structured-outputs#supported-models. To fix this warning, set `method='function_calling'. Overriding to method='function_calling'.\n",
      "  warnings.warn(\n"
     ]
    }
   ],
   "execution_count": 36
  },
  {
   "metadata": {
    "ExecuteTime": {
     "end_time": "2025-07-14T21:55:11.044705Z",
     "start_time": "2025-07-14T21:55:10.987743Z"
    }
   },
   "cell_type": "code",
   "source": [
    "class EssayState(TypedDict):\n",
    "    essay: str\n",
    "\n",
    "    language_feedback: str\n",
    "    depth_feedback: str\n",
    "    clarity_feedback: str\n",
    "    overall_feedback: str\n",
    "\n",
    "    individual_score: Annotated[list[int], operator.add]\n",
    "    avg_score: float"
   ],
   "id": "91d2b85a6c1d3270",
   "outputs": [],
   "execution_count": 44
  },
  {
   "metadata": {
    "ExecuteTime": {
     "end_time": "2025-07-14T21:55:53.960816Z",
     "start_time": "2025-07-14T21:55:53.949039Z"
    }
   },
   "cell_type": "code",
   "source": [
    "def eval_language(state: EssayState):\n",
    "    prompt = f\"\"\"Evaluate the following essay on language and provide feedback and a score from 1 to 10:\\n\\n{state[\"essay\"]}\"\"\"\n",
    "    response = model_with_structured_output.invoke(prompt)\n",
    "\n",
    "    return {\"language_feedback\": response.feedback,\n",
    "            \"individual_score\": [response.score]}"
   ],
   "id": "a774f3cba64cfd19",
   "outputs": [],
   "execution_count": 52
  },
  {
   "metadata": {
    "ExecuteTime": {
     "end_time": "2025-07-14T21:55:54.428970Z",
     "start_time": "2025-07-14T21:55:54.416929Z"
    }
   },
   "cell_type": "code",
   "source": [
    "def eval_depth(state: EssayState):\n",
    "    prompt = f\"\"\"Evaluate the following essay on depth of analysis and provide feedback and a score from 1 to 10:\\n\\n{state[\"essay\"]}\"\"\"\n",
    "    response = model_with_structured_output.invoke(prompt)\n",
    "\n",
    "    return {\"depth_feedback\": response.feedback,\n",
    "            \"individual_score\": [response.score]}"
   ],
   "id": "edaf7c82a5af31b0",
   "outputs": [],
   "execution_count": 53
  },
  {
   "metadata": {
    "ExecuteTime": {
     "end_time": "2025-07-14T21:55:54.912109Z",
     "start_time": "2025-07-14T21:55:54.899110Z"
    }
   },
   "cell_type": "code",
   "source": [
    "def eval_clarity(state: EssayState):\n",
    "    prompt = f\"\"\"Evaluate the following essay on clarity of thoughts and provide feedback and a score from 1 to 10:\\n\\n{state[\"essay\"]}\"\"\"\n",
    "    response = model_with_structured_output.invoke(prompt)\n",
    "\n",
    "    return {\"clarity_feedback\": response.feedback,\n",
    "            \"individual_score\": [response.score]}"
   ],
   "id": "83a7aaf8b6f6bb65",
   "outputs": [],
   "execution_count": 54
  },
  {
   "metadata": {
    "ExecuteTime": {
     "end_time": "2025-07-14T21:56:44.935075Z",
     "start_time": "2025-07-14T21:56:44.923066Z"
    }
   },
   "cell_type": "code",
   "source": [
    "def final_eval(state: EssayState):\n",
    "    prompt = \"\"\"Create a summary of feedback based on state[\"language_feedback\"], state[\"depth_feedback\"] and state[\"clarity_feedback\"]\"\"\"\n",
    "    response = model.invoke(prompt).content\n",
    "\n",
    "    avg_score = sum(state[\"individual_score\"]) / len(state[\"individual_score\"])\n",
    "\n",
    "    return {\"overall_feedback\": response,\n",
    "            \"avg_score\": avg_score}"
   ],
   "id": "7768017460b07b5f",
   "outputs": [],
   "execution_count": 59
  },
  {
   "metadata": {
    "ExecuteTime": {
     "end_time": "2025-07-14T21:56:46.438533Z",
     "start_time": "2025-07-14T21:56:46.228009Z"
    }
   },
   "cell_type": "code",
   "source": [
    "graph = StateGraph(EssayState)\n",
    "\n",
    "graph.add_node(\"eval_language\", eval_language)\n",
    "graph.add_node(\"eval_depth\", eval_depth)\n",
    "graph.add_node(\"eval_clarity\", eval_clarity)\n",
    "graph.add_node(\"final_eval\", final_eval)\n",
    "\n",
    "graph.add_edge(START, \"eval_language\")\n",
    "graph.add_edge(START, \"eval_depth\")\n",
    "graph.add_edge(START, \"eval_clarity\")\n",
    "\n",
    "graph.add_edge(\"eval_language\", \"final_eval\")\n",
    "graph.add_edge(\"eval_depth\", \"final_eval\")\n",
    "graph.add_edge(\"eval_clarity\", \"final_eval\")\n",
    "\n",
    "graph.add_edge(\"final_eval\", END)\n",
    "\n",
    "workflow = graph.compile()\n",
    "workflow"
   ],
   "id": "6240469c19d1267d",
   "outputs": [
    {
     "data": {
      "text/plain": [
       "<langgraph.graph.state.CompiledStateGraph object at 0x0000021387F7B730>"
      ],
      "image/png": "[encoded data removed]"
     },
     "execution_count": 60,
     "metadata": {},
     "output_type": "execute_result"
    }
   ],
   "execution_count": 60
  },
  {
   "metadata": {
    "ExecuteTime": {
     "end_time": "2025-07-14T21:56:46.721338Z",
     "start_time": "2025-07-14T21:56:46.710093Z"
    }
   },
   "cell_type": "code",
   "source": [
    "essay = \"\"\"\n",
    "As artificial intelligence reshapes our societies, economies, and daily lives, it also prompts profound ethical, philosophical, and existential questions. In this rapidly changing landscape, religion continues to play an important role in offering moral guidance, preserving human dignity, and shaping our collective conscience.\n",
    "\n",
    "One of the most significant concerns in the age of AI is the potential erosion of human values in favor of efficiency and automation. Here, religion can serve as a moral compass. Most religious traditions emphasize compassion, accountability, justice, and the sanctity of life—principles that can help guide the development and deployment of AI technologies. For instance, questions around the ethical use of surveillance, the fairness of algorithmic decisions, and the autonomy of AI systems are not just technical issues—they are moral ones, and religion offers a framework to address them.\n",
    "\n",
    "Additionally, as AI challenges traditional views on consciousness and personhood, religion offers centuries of thought on the nature of the soul, identity, and human purpose. While science can explain how AI systems work, it is religion that helps us ask why we are building them, and what kind of world we hope to create.\n",
    "\n",
    "Religion also has a role in fostering dialogue across cultures in a global AI age. As different societies develop and use AI in different ways, interfaith and ethical discussions can help create shared values and responsibilities, ensuring that AI benefits humanity as a whole and not just a few.\n",
    "\n",
    "In conclusion, religion does not stand in opposition to technology. Rather, in the age of AI, it can serve as a source of ethical reflection, human-centered values, and global cooperation—ensuring that as machines grow smarter, we remain deeply human.\"\"\""
   ],
   "id": "859c3c5d542e6bfa",
   "outputs": [],
   "execution_count": 61
  },
  {
   "metadata": {
    "ExecuteTime": {
     "end_time": "2025-07-14T21:56:50.923405Z",
     "start_time": "2025-07-14T21:56:47.101335Z"
    }
   },
   "cell_type": "code",
   "source": [
    "initial_state = {\n",
    "    'essay': essay\n",
    "}\n",
    "\n",
    "workflow.invoke(initial_state)"
   ],
   "id": "227fd39bff981590",
   "outputs": [
    {
     "data": {
      "text/plain": [
       "{'essay': '\\nAs artificial intelligence reshapes our societies, economies, and daily lives, it also prompts profound ethical, philosophical, and existential questions. In this rapidly changing landscape, religion continues to play an important role in offering moral guidance, preserving human dignity, and shaping our collective conscience.\\n\\nOne of the most significant concerns in the age of AI is the potential erosion of human values in favor of efficiency and automation. Here, religion can serve as a moral compass. Most religious traditions emphasize compassion, accountability, justice, and the sanctity of life—principles that can help guide the development and deployment of AI technologies. For instance, questions around the ethical use of surveillance, the fairness of algorithmic decisions, and the autonomy of AI systems are not just technical issues—they are moral ones, and religion offers a framework to address them.\\n\\nAdditionally, as AI challenges traditional views on consciousness and personhood, religion offers centuries of thought on the nature of the soul, identity, and human purpose. While science can explain how AI systems work, it is religion that helps us ask why we are building them, and what kind of world we hope to create.\\n\\nReligion also has a role in fostering dialogue across cultures in a global AI age. As different societies develop and use AI in different ways, interfaith and ethical discussions can help create shared values and responsibilities, ensuring that AI benefits humanity as a whole and not just a few.\\n\\nIn conclusion, religion does not stand in opposition to technology. Rather, in the age of AI, it can serve as a source of ethical reflection, human-centered values, and global cooperation—ensuring that as machines grow smarter, we remain deeply human.',\n",
       " 'language_feedback': 'The essay provides a thoughtful analysis of the role of religion in the age of artificial intelligence, highlighting its potential to offer moral guidance, preserve human values, and foster global cooperation. The arguments are well-developed and supported with examples. The language is clear and concise, making it easy to follow the line of reasoning. However, a more in-depth exploration of potential counterarguments or limitations to the role of religion in the AI age could strengthen the essay. Overall, the essay effectively conveys the importance of incorporating ethical and moral considerations in AI development through a religious lens.',\n",
       " 'depth_feedback': 'The essay provides a comprehensive analysis of the intersection between artificial intelligence and religion, highlighting the ethical, philosophical, and societal implications. It effectively argues for the importance of incorporating moral guidance from religious traditions in the development and deployment of AI technologies. The essay also addresses the potential erosion of human values and the role of religion in fostering global dialogue in the AI age. Overall, the depth of analysis is commendable, covering various aspects of the topic in a thoughtful manner.',\n",
       " 'clarity_feedback': 'The essay provides a clear and coherent argument on the role of religion in the age of artificial intelligence. It effectively discusses the importance of moral guidance, ethical considerations, and global cooperation in the development and deployment of AI technologies. The ideas are well-structured and supported with relevant examples and explanations.',\n",
       " 'overall_feedback': 'Based on the feedback received, it appears that users are generally satisfied with the language, depth, and clarity of the content provided. However, there may be some room for improvement in certain areas. Some users have provided suggestions for improving the language used in the material, while others have requested more in-depth explanations on certain topics. Additionally, some users have pointed out that the content could be made clearer and easier to understand. Overall, the feedback highlights a need for refining the language, depth, and clarity of the content to better meet the needs of the users.',\n",
       " 'individual_score': [9, 9, 9],\n",
       " 'avg_score': 9.0}"
      ]
     },
     "execution_count": 62,
     "metadata": {},
     "output_type": "execute_result"
    }
   ],
   "execution_count": 62
  },
  {
   "metadata": {
    "ExecuteTime": {
     "end_time": "2025-07-14T21:58:33.659514Z",
     "start_time": "2025-07-14T21:58:33.634507Z"
    }
   },
   "cell_type": "code",
   "source": [
    "essay2 = \"\"\"\n",
    "AI is bad for peopels becaus it take jobbs from humen. Many faktorys now usin robott and mashine insted of workars, wich make unemploments go hi. Also AI make peple lazie, they no ned to think annymore becus AI do evrything for them. Wen studant use AI for homwerk, they no lern anythng, just copy ansers and submite. This not gud for edukation sistem.\n",
    "\n",
    "Also, AI can do bad tings like spieing peopel. Sometymes govermint use AI to wach citizans without them no. This is breking privacey and fredom. AI also can be raycist or unfare becaus it lern from bad data. If AI is traned on bad data, it will make bad choisces. Like if AI is use for hireing, it mayby choose only one type of peple and not be fare.\n",
    "\n",
    "Anothar problem is AI dont hav fealings. It not care about humen or emoshuns. If AI drive car and ned to save driver or chiled on rode, it dont now wich better. So mayby it choose rong. That can be dangrous.\n",
    "\n",
    "So, AI is not alwayz gud. It have many problums and can be danger to sosiety if we not carefulls.\"\"\""
   ],
   "id": "311b4e38ef481613",
   "outputs": [],
   "execution_count": 63
  },
  {
   "metadata": {
    "ExecuteTime": {
     "end_time": "2025-07-14T21:58:45.089882Z",
     "start_time": "2025-07-14T21:58:40.114331Z"
    }
   },
   "cell_type": "code",
   "source": [
    "initial_state = {\n",
    "    'essay': essay2\n",
    "}\n",
    "\n",
    "workflow.invoke(initial_state)"
   ],
   "id": "1671207db8de7118",
   "outputs": [
    {
     "data": {
      "text/plain": [
       "{'essay': '\\nAI is bad for peopels becaus it take jobbs from humen. Many faktorys now usin robott and mashine insted of workars, wich make unemploments go hi. Also AI make peple lazie, they no ned to think annymore becus AI do evrything for them. Wen studant use AI for homwerk, they no lern anythng, just copy ansers and submite. This not gud for edukation sistem.\\n\\nAlso, AI can do bad tings like spieing peopel. Sometymes govermint use AI to wach citizans without them no. This is breking privacey and fredom. AI also can be raycist or unfare becaus it lern from bad data. If AI is traned on bad data, it will make bad choisces. Like if AI is use for hireing, it mayby choose only one type of peple and not be fare.\\n\\nAnothar problem is AI dont hav fealings. It not care about humen or emoshuns. If AI drive car and ned to save driver or chiled on rode, it dont now wich better. So mayby it choose rong. That can be dangrous.\\n\\nSo, AI is not alwayz gud. It have many problums and can be danger to sosiety if we not carefulls.',\n",
       " 'language_feedback': 'The essay raises valid concerns about the negative impact of AI on society, including job displacement, laziness, privacy breaches, biases in decision-making, and lack of emotions in decision-making. The points are well articulated, but there are some spelling and grammar errors that could be improved. The essay could benefit from more specific examples and evidence to support the arguments. Overall, a good effort in discussing the drawbacks of AI.',\n",
       " 'depth_feedback': 'The essay provides a reasonable analysis of the negative aspects of AI, touching on job displacement, laziness, privacy concerns, bias, and lack of emotions. However, the essay lacks depth in terms of elaborating on each point with more detailed examples or evidence. It would be beneficial to include specific case studies or research findings to support the arguments.',\n",
       " 'clarity_feedback': 'The essay presents valid concerns about the negative effects of AI on society, such as job displacement, laziness, privacy invasion, bias, and lack of emotional intelligence. However, the essay could benefit from improved clarity of thoughts and organization of ideas. The writing style is a bit informal with spelling and grammatical errors. It would be helpful to provide more specific examples and evidence to support the arguments. Overall, the message is clear but could be better structured for better impact.',\n",
       " 'overall_feedback': 'Based on the feedback received, it seems that there are mixed opinions on the language used in the content. Some users found it easy to understand and well-written, while others found it too technical or difficult to follow.\\n\\nIn terms of depth, the feedback suggests that some users appreciate the level of detail provided in the content, while others feel that it is too shallow or lacks sufficient information. \\n\\nRegarding clarity, the feedback indicates that some users found the content to be clear and easy to follow, while others struggled to grasp the concepts or had difficulty understanding the information presented. \\n\\nOverall, it appears that there is room for improvement in the language, depth, and clarity of the content to better meet the needs and preferences of all users.',\n",
       " 'individual_score': [6, 6, 7],\n",
       " 'avg_score': 6.333333333333333}"
      ]
     },
     "execution_count": 64,
     "metadata": {},
     "output_type": "execute_result"
    }
   ],
   "execution_count": 64
  }
 ],
 "metadata": {
  "kernelspec": {
   "display_name": "Python 3",
   "language": "python",
   "name": "python3"
  },
  "language_info": {
   "codemirror_mode": {
    "name": "ipython",
    "version": 2
   },
   "file_extension": ".py",
   "mimetype": "text/x-python",
   "name": "python",
   "nbconvert_exporter": "python",
   "pygments_lexer": "ipython2",
   "version": "2.7.6"
  }
 },
 "nbformat": 4,
 "nbformat_minor": 5
}
