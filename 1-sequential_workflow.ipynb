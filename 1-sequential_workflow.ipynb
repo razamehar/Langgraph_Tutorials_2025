{
 "cells": [
  {
   "metadata": {},
   "cell_type": "markdown",
   "source": "### A sequential workflow that calculates BMI using the provided weight and height, assigns a BMI category label, and offers relevant health tips.",
   "id": "1deb9f05c878138a"
  },
  {
   "metadata": {},
   "cell_type": "code",
   "outputs": [],
   "execution_count": null,
   "source": [
    "from langgraph.graph import StateGraph, START, END\n",
    "from langchain_openai import ChatOpenAI\n",
    "from typing import TypedDict\n",
    "from dotenv import load_dotenv"
   ],
   "id": "ed04f5a33ba937af"
  },
  {
   "metadata": {
    "ExecuteTime": {
     "end_time": "2025-07-11T18:17:49.502569Z",
     "start_time": "2025-07-11T18:17:49.466569Z"
    }
   },
   "cell_type": "code",
   "source": "load_dotenv()",
   "id": "c73a42b979659a9c",
   "outputs": [
    {
     "data": {
      "text/plain": [
       "True"
      ]
     },
     "execution_count": 2,
     "metadata": {},
     "output_type": "execute_result"
    }
   ],
   "execution_count": 2
  },
  {
   "metadata": {
    "ExecuteTime": {
     "end_time": "2025-07-11T18:17:51.418112Z",
     "start_time": "2025-07-11T18:17:50.352123Z"
    }
   },
   "cell_type": "code",
   "source": "model = ChatOpenAI()",
   "id": "c8b335a9444b2c20",
   "outputs": [],
   "execution_count": 3
  },
  {
   "metadata": {
    "ExecuteTime": {
     "end_time": "2025-07-11T18:28:10.252031Z",
     "start_time": "2025-07-11T18:28:10.237313Z"
    }
   },
   "cell_type": "code",
   "source": [
    "class BMIState(TypedDict):\n",
    "    height_in_meter: float\n",
    "    weight_in_kg: float\n",
    "    bmi: float\n",
    "    bmi_label: str\n",
    "    tips: str"
   ],
   "id": "d96d4ac3049b369a",
   "outputs": [],
   "execution_count": 17
  },
  {
   "metadata": {
    "ExecuteTime": {
     "end_time": "2025-07-11T18:28:10.702492Z",
     "start_time": "2025-07-11T18:28:10.692490Z"
    }
   },
   "cell_type": "code",
   "source": [
    "def calculate_bmi(state: BMIState) -> BMIState:\n",
    "    height = state[\"height_in_meter\"]\n",
    "    weight = state[\"weight_in_kg\"]\n",
    "    bmi = weight / (height ** 2)\n",
    "    state[\"bmi\"] = round(bmi, 2)\n",
    "\n",
    "    return state"
   ],
   "id": "2f0f948070a7e69f",
   "outputs": [],
   "execution_count": 18
  },
  {
   "metadata": {
    "ExecuteTime": {
     "end_time": "2025-07-11T18:28:11.355661Z",
     "start_time": "2025-07-11T18:28:11.345661Z"
    }
   },
   "cell_type": "code",
   "source": [
    "def get_bmi_label(state: BMIState) -> BMIState:\n",
    "    bmi = state[\"bmi\"]\n",
    "\n",
    "    if bmi < 18.5:\n",
    "        state[\"bmi_label\"] = \"Underweight\"\n",
    "    elif 18.5 <= bmi < 25:\n",
    "        state[\"bmi_label\"] = \"Normal\"\n",
    "    elif 25 <= bmi < 30:\n",
    "        state[\"bmi_label\"] = \"Overweight\"\n",
    "    else:\n",
    "        state[\"bmi_label\"] = \"Obese\"\n",
    "\n",
    "    return state"
   ],
   "id": "41a49be0ece15ace",
   "outputs": [],
   "execution_count": 19
  },
  {
   "metadata": {
    "ExecuteTime": {
     "end_time": "2025-07-11T18:29:52.070233Z",
     "start_time": "2025-07-11T18:29:52.061228Z"
    }
   },
   "cell_type": "code",
   "source": [
    "def get_tips(state: BMIState) -> BMIState:\n",
    "\n",
    "    bmi_label = state[\"bmi_label\"]\n",
    "\n",
    "    if bmi_label == \"Normal\":\n",
    "        state[\"tips\"] = \"Continue as usual\"\n",
    "        return state\n",
    "\n",
    "    prompt = f\"Generate 2 tips for according to the bmi label - {bmi_label}\"\n",
    "\n",
    "    response = model.invoke(prompt).content\n",
    "    state[\"tips\"] = response\n",
    "\n",
    "    return state"
   ],
   "id": "260a79d486689011",
   "outputs": [],
   "execution_count": 29
  },
  {
   "metadata": {
    "ExecuteTime": {
     "end_time": "2025-07-11T18:30:00.553520Z",
     "start_time": "2025-07-11T18:30:00.203565Z"
    }
   },
   "cell_type": "code",
   "source": [
    "graph = StateGraph(BMIState)\n",
    "\n",
    "graph.add_node(\"calculate_bmi\", calculate_bmi)\n",
    "graph.add_node(\"get_bmi_label\", get_bmi_label)\n",
    "graph.add_node(\"get_tips\", get_tips)\n",
    "\n",
    "graph.add_edge(START, \"calculate_bmi\")\n",
    "graph.add_edge(\"calculate_bmi\", \"get_bmi_label\")\n",
    "graph.add_edge(\"get_bmi_label\", \"get_tips\")\n",
    "graph.add_edge(\"get_tips\", END)\n",
    "\n",
    "workflow = graph.compile()\n",
    "workflow"
   ],
   "id": "7048a112d44fbed9",
   "outputs": [
    {
     "data": {
      "text/plain": [
       "<langgraph.graph.state.CompiledStateGraph object at 0x000001F32A01E170>"
      ],
      "image/png": "[encoded data removed]"
     },
     "execution_count": 30,
     "metadata": {},
     "output_type": "execute_result"
    }
   ],
   "execution_count": 30
  },
  {
   "metadata": {
    "ExecuteTime": {
     "end_time": "2025-07-11T18:30:20.725269Z",
     "start_time": "2025-07-11T18:30:17.337474Z"
    }
   },
   "cell_type": "code",
   "source": [
    "initial_state = {\"height_in_meter\": 1.78, \"weight_in_kg\": 80}\n",
    "final_state = workflow.invoke(initial_state)"
   ],
   "id": "2a976b3f8dcb8269",
   "outputs": [],
   "execution_count": 37
  },
  {
   "metadata": {
    "ExecuteTime": {
     "end_time": "2025-07-11T18:30:20.803017Z",
     "start_time": "2025-07-11T18:30:20.779871Z"
    }
   },
   "cell_type": "code",
   "source": "print(final_state)",
   "id": "d8aba44fe0fe2f70",
   "outputs": [
    {
     "name": "stdout",
     "output_type": "stream",
     "text": [
      "{'height_in_meter': 1.78, 'weight_in_kg': 80, 'bmi': 25.25, 'bmi_label': 'Overweight', 'tips': \"1. Consult with a healthcare professional: If your BMI label indicates that you are overweight, it's important to speak with a doctor or registered dietitian to develop a personalized plan for achieving a healthy weight. They can provide guidance on nutrition, exercise, and lifestyle changes that can help you reach a more optimal BMI.\\n\\n2. Focus on making gradual, sustainable changes: Rather than trying to implement drastic changes all at once, focus on making small, sustainable adjustments to your diet and exercise routine. This can help you develop healthy habits over time that will support long-term weight management and overall health. Remember that slow and steady progress is more effective and sustainable than quick fixes.\"}\n"
     ]
    }
   ],
   "execution_count": 38
  },
  {
   "metadata": {},
   "cell_type": "code",
   "outputs": [],
   "execution_count": null,
   "source": "",
   "id": "ad61a44ed0ba45b5"
  }
 ],
 "metadata": {
  "kernelspec": {
   "display_name": "Python 3",
   "language": "python",
   "name": "python3"
  },
  "language_info": {
   "codemirror_mode": {
    "name": "ipython",
    "version": 2
   },
   "file_extension": ".py",
   "mimetype": "text/x-python",
   "name": "python",
   "nbconvert_exporter": "python",
   "pygments_lexer": "ipython2",
   "version": "2.7.6"
  }
 },
 "nbformat": 4,
 "nbformat_minor": 5
}
