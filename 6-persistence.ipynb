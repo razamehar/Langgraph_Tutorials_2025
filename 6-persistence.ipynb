{
 "cells": [
  {
   "metadata": {
    "ExecuteTime": {
     "end_time": "2025-07-31T12:54:49.517902Z",
     "start_time": "2025-07-31T12:54:45.969951Z"
    }
   },
   "cell_type": "code",
   "source": [
    "from langgraph.graph import StateGraph, START, END\n",
    "from langchain_openai import ChatOpenAI\n",
    "from langgraph.checkpoint.memory import MemorySaver\n",
    "from dotenv import load_dotenv\n",
    "import uuid\n",
    "from typing import TypedDict, Annotated"
   ],
   "id": "bf94f2cecb060bb1",
   "outputs": [],
   "execution_count": 1
  },
  {
   "metadata": {
    "ExecuteTime": {
     "end_time": "2025-07-31T12:54:52.480771Z",
     "start_time": "2025-07-31T12:54:51.348294Z"
    }
   },
   "cell_type": "code",
   "source": [
    "load_dotenv()\n",
    "model = ChatOpenAI()"
   ],
   "id": "ae17a37ded219c41",
   "outputs": [],
   "execution_count": 2
  },
  {
   "metadata": {
    "ExecuteTime": {
     "end_time": "2025-07-31T12:59:34.421403Z",
     "start_time": "2025-07-31T12:59:34.311430Z"
    }
   },
   "cell_type": "code",
   "source": [
    "class ChatState(TypedDict):\n",
    "    name: str\n",
    "    dream_job: str\n",
    "    recommendation: str"
   ],
   "id": "55091d886c42fd72",
   "outputs": [],
   "execution_count": 3
  },
  {
   "metadata": {
    "ExecuteTime": {
     "end_time": "2025-07-31T13:10:44.501573Z",
     "start_time": "2025-07-31T13:10:44.489571Z"
    }
   },
   "cell_type": "code",
   "source": [
    "def generate_recommendation(state: ChatState):\n",
    "    prompt = (\n",
    "        f\"You are a career advisor. Based on the dream job: \\\"{state['dream_job']}\\\", \"\n",
    "        f\"recommend suggestions to help {state['name']} land this job in less than 50 words.\"\n",
    "    )\n",
    "\n",
    "    recommendation = model.invoke(prompt)\n",
    "\n",
    "    return {\"recommendation\": recommendation}\n"
   ],
   "id": "e68e1185bbf04090",
   "outputs": [],
   "execution_count": 42
  },
  {
   "metadata": {
    "ExecuteTime": {
     "end_time": "2025-07-31T13:10:44.987806Z",
     "start_time": "2025-07-31T13:10:44.974839Z"
    }
   },
   "cell_type": "code",
   "source": [
    "graph = StateGraph(ChatState)\n",
    "\n",
    "graph.add_node(\"generate_recommendation\", generate_recommendation)\n",
    "\n",
    "graph.add_edge(START, \"generate_recommendation\")\n",
    "graph.add_edge(\"generate_recommendation\", END)\n",
    "\n",
    "checkpointer = MemorySaver()\n",
    "chatbot = graph.compile(checkpointer=checkpointer)"
   ],
   "id": "fb47c02abba66bc8",
   "outputs": [],
   "execution_count": 43
  },
  {
   "metadata": {
    "ExecuteTime": {
     "end_time": "2025-07-31T13:10:45.657227Z",
     "start_time": "2025-07-31T13:10:45.462193Z"
    }
   },
   "cell_type": "code",
   "source": "chatbot",
   "id": "97feaa6d20917780",
   "outputs": [
    {
     "data": {
      "text/plain": [
       "<langgraph.graph.state.CompiledStateGraph object at 0x000002643A3B21A0>"
      ],
      "image/png": "[encoded data removed]"
     },
     "execution_count": 44,
     "metadata": {},
     "output_type": "execute_result"
    }
   ],
   "execution_count": 44
  },
  {
   "metadata": {
    "ExecuteTime": {
     "end_time": "2025-07-31T13:18:29.960739Z",
     "start_time": "2025-07-31T13:18:29.937797Z"
    }
   },
   "cell_type": "code",
   "source": [
    "thread_id = uuid.uuid4()\n",
    "\n",
    "initial_state = {\n",
    "    'name': \"Raza\",\n",
    "'dream_job': \"Data Scientist\"}\n",
    "\n",
    "config1 = {\n",
    "        \"configurable\": {\n",
    "            \"thread_id\": str(thread_id),\n",
    "        }\n",
    "    }"
   ],
   "id": "27e24b54a1f47510",
   "outputs": [],
   "execution_count": 68
  },
  {
   "metadata": {
    "ExecuteTime": {
     "end_time": "2025-07-31T13:18:32.605175Z",
     "start_time": "2025-07-31T13:18:30.620251Z"
    }
   },
   "cell_type": "code",
   "source": [
    "response = chatbot.invoke(initial_state, config=config1)\n",
    "response['recommendation'].content"
   ],
   "id": "f8a9d1aceee2dc28",
   "outputs": [
    {
     "data": {
      "text/plain": [
       "'1. Obtain a relevant degree in statistics, mathematics, computer science, or a related field.\\n2. Gain experience through internships or projects using data analysis tools like Python, R, or SQL.\\n3. Build a strong portfolio showcasing data analysis projects and findings.\\n4. Network with professionals in the field and attend data science events to stay current on industry trends.'"
      ]
     },
     "execution_count": 69,
     "metadata": {},
     "output_type": "execute_result"
    }
   ],
   "execution_count": 69
  },
  {
   "metadata": {
    "ExecuteTime": {
     "end_time": "2025-07-31T13:18:33.553563Z",
     "start_time": "2025-07-31T13:18:33.527457Z"
    }
   },
   "cell_type": "code",
   "source": "chatbot.get_state(config1)",
   "id": "dbcb23e93e9adb36",
   "outputs": [
    {
     "data": {
      "text/plain": [
       "StateSnapshot(values={'name': 'Raza', 'dream_job': 'Data Scientist', 'recommendation': AIMessage(content='1. Obtain a relevant degree in statistics, mathematics, computer science, or a related field.\\n2. Gain experience through internships or projects using data analysis tools like Python, R, or SQL.\\n3. Build a strong portfolio showcasing data analysis projects and findings.\\n4. Network with professionals in the field and attend data science events to stay current on industry trends.', additional_kwargs={'refusal': None}, response_metadata={'token_usage': {'completion_tokens': 73, 'prompt_tokens': 39, 'total_tokens': 112, 'completion_tokens_details': {'accepted_prediction_tokens': 0, 'audio_tokens': 0, 'reasoning_tokens': 0, 'rejected_prediction_tokens': 0}, 'prompt_tokens_details': {'audio_tokens': 0, 'cached_tokens': 0}}, 'model_name': 'gpt-3.5-turbo-0125', 'system_fingerprint': None, 'id': 'chatcmpl-BzNSwnWAQnVmHAm0BxuyIbnuEt9CC', 'service_tier': 'default', 'finish_reason': 'stop', 'logprobs': None}, id='run--232f3acf-f03b-4492-9d78-ca1d08ddf46f-0', usage_metadata={'input_tokens': 39, 'output_tokens': 73, 'total_tokens': 112, 'input_token_details': {'audio': 0, 'cache_read': 0}, 'output_token_details': {'audio': 0, 'reasoning': 0}})}, next=(), config={'configurable': {'thread_id': '2d7e214c-be5e-468a-9b2a-8672ddb4fc92', 'checkpoint_ns': '', 'checkpoint_id': '1f06e10d-b489-6d8b-8001-76b343451337'}}, metadata={'source': 'loop', 'step': 1, 'parents': {}, 'thread_id': '2d7e214c-be5e-468a-9b2a-8672ddb4fc92'}, created_at='2025-07-31T13:18:32.598669+00:00', parent_config={'configurable': {'thread_id': '2d7e214c-be5e-468a-9b2a-8672ddb4fc92', 'checkpoint_ns': '', 'checkpoint_id': '1f06e10d-a1b7-6f1d-8000-2de38638aa2b'}}, tasks=(), interrupts=())"
      ]
     },
     "execution_count": 70,
     "metadata": {},
     "output_type": "execute_result"
    }
   ],
   "execution_count": 70
  },
  {
   "metadata": {
    "ExecuteTime": {
     "end_time": "2025-07-31T13:18:34.849079Z",
     "start_time": "2025-07-31T13:18:34.830092Z"
    }
   },
   "cell_type": "code",
   "source": "list(chatbot.get_state_history(config1))",
   "id": "fd15bc7c862ebecd",
   "outputs": [
    {
     "data": {
      "text/plain": [
       "[StateSnapshot(values={'name': 'Raza', 'dream_job': 'Data Scientist', 'recommendation': AIMessage(content='1. Obtain a relevant degree in statistics, mathematics, computer science, or a related field.\\n2. Gain experience through internships or projects using data analysis tools like Python, R, or SQL.\\n3. Build a strong portfolio showcasing data analysis projects and findings.\\n4. Network with professionals in the field and attend data science events to stay current on industry trends.', additional_kwargs={'refusal': None}, response_metadata={'token_usage': {'completion_tokens': 73, 'prompt_tokens': 39, 'total_tokens': 112, 'completion_tokens_details': {'accepted_prediction_tokens': 0, 'audio_tokens': 0, 'reasoning_tokens': 0, 'rejected_prediction_tokens': 0}, 'prompt_tokens_details': {'audio_tokens': 0, 'cached_tokens': 0}}, 'model_name': 'gpt-3.5-turbo-0125', 'system_fingerprint': None, 'id': 'chatcmpl-BzNSwnWAQnVmHAm0BxuyIbnuEt9CC', 'service_tier': 'default', 'finish_reason': 'stop', 'logprobs': None}, id='run--232f3acf-f03b-4492-9d78-ca1d08ddf46f-0', usage_metadata={'input_tokens': 39, 'output_tokens': 73, 'total_tokens': 112, 'input_token_details': {'audio': 0, 'cache_read': 0}, 'output_token_details': {'audio': 0, 'reasoning': 0}})}, next=(), config={'configurable': {'thread_id': '2d7e214c-be5e-468a-9b2a-8672ddb4fc92', 'checkpoint_ns': '', 'checkpoint_id': '1f06e10d-b489-6d8b-8001-76b343451337'}}, metadata={'source': 'loop', 'step': 1, 'parents': {}, 'thread_id': '2d7e214c-be5e-468a-9b2a-8672ddb4fc92'}, created_at='2025-07-31T13:18:32.598669+00:00', parent_config={'configurable': {'thread_id': '2d7e214c-be5e-468a-9b2a-8672ddb4fc92', 'checkpoint_ns': '', 'checkpoint_id': '1f06e10d-a1b7-6f1d-8000-2de38638aa2b'}}, tasks=(), interrupts=()),\n",
       " StateSnapshot(values={'name': 'Raza', 'dream_job': 'Data Scientist'}, next=('generate_recommendation',), config={'configurable': {'thread_id': '2d7e214c-be5e-468a-9b2a-8672ddb4fc92', 'checkpoint_ns': '', 'checkpoint_id': '1f06e10d-a1b7-6f1d-8000-2de38638aa2b'}}, metadata={'source': 'loop', 'step': 0, 'parents': {}, 'thread_id': '2d7e214c-be5e-468a-9b2a-8672ddb4fc92'}, created_at='2025-07-31T13:18:30.625257+00:00', parent_config={'configurable': {'thread_id': '2d7e214c-be5e-468a-9b2a-8672ddb4fc92', 'checkpoint_ns': '', 'checkpoint_id': '1f06e10d-a1b5-6816-bfff-7a92c24c3cb9'}}, tasks=(PregelTask(id='402e0934-e69f-0b57-e1a9-473727845527', name='generate_recommendation', path=('__pregel_pull', 'generate_recommendation'), error=None, interrupts=(), state=None, result={'recommendation': AIMessage(content='1. Obtain a relevant degree in statistics, mathematics, computer science, or a related field.\\n2. Gain experience through internships or projects using data analysis tools like Python, R, or SQL.\\n3. Build a strong portfolio showcasing data analysis projects and findings.\\n4. Network with professionals in the field and attend data science events to stay current on industry trends.', additional_kwargs={'refusal': None}, response_metadata={'token_usage': {'completion_tokens': 73, 'prompt_tokens': 39, 'total_tokens': 112, 'completion_tokens_details': {'accepted_prediction_tokens': 0, 'audio_tokens': 0, 'reasoning_tokens': 0, 'rejected_prediction_tokens': 0}, 'prompt_tokens_details': {'audio_tokens': 0, 'cached_tokens': 0}}, 'model_name': 'gpt-3.5-turbo-0125', 'system_fingerprint': None, 'id': 'chatcmpl-BzNSwnWAQnVmHAm0BxuyIbnuEt9CC', 'service_tier': 'default', 'finish_reason': 'stop', 'logprobs': None}, id='run--232f3acf-f03b-4492-9d78-ca1d08ddf46f-0', usage_metadata={'input_tokens': 39, 'output_tokens': 73, 'total_tokens': 112, 'input_token_details': {'audio': 0, 'cache_read': 0}, 'output_token_details': {'audio': 0, 'reasoning': 0}})}),), interrupts=()),\n",
       " StateSnapshot(values={}, next=('__start__',), config={'configurable': {'thread_id': '2d7e214c-be5e-468a-9b2a-8672ddb4fc92', 'checkpoint_ns': '', 'checkpoint_id': '1f06e10d-a1b5-6816-bfff-7a92c24c3cb9'}}, metadata={'source': 'input', 'step': -1, 'parents': {}, 'thread_id': '2d7e214c-be5e-468a-9b2a-8672ddb4fc92'}, created_at='2025-07-31T13:18:30.624258+00:00', parent_config=None, tasks=(PregelTask(id='173b923b-a2f3-72b5-4de3-53348ffabccb', name='__start__', path=('__pregel_pull', '__start__'), error=None, interrupts=(), state=None, result={'name': 'Raza', 'dream_job': 'Data Scientist'}),), interrupts=())]"
      ]
     },
     "execution_count": 71,
     "metadata": {},
     "output_type": "execute_result"
    }
   ],
   "execution_count": 71
  },
  {
   "metadata": {
    "ExecuteTime": {
     "end_time": "2025-07-31T13:18:36.118432Z",
     "start_time": "2025-07-31T13:18:36.093904Z"
    }
   },
   "cell_type": "code",
   "source": [
    "thread_id = uuid.uuid4()\n",
    "\n",
    "initial_state = {\n",
    "    'name': \"Ali\",\n",
    "'dream_job': \"Businessman\"}\n",
    "\n",
    "config2 = {\n",
    "        \"configurable\": {\n",
    "            \"thread_id\": str(thread_id),\n",
    "        }\n",
    "    }"
   ],
   "id": "ddbceffc50286e6b",
   "outputs": [],
   "execution_count": 72
  },
  {
   "metadata": {
    "ExecuteTime": {
     "end_time": "2025-07-31T13:18:38.722863Z",
     "start_time": "2025-07-31T13:18:36.813636Z"
    }
   },
   "cell_type": "code",
   "source": [
    "response = chatbot.invoke(initial_state, config=config2)\n",
    "response['recommendation'].content"
   ],
   "id": "f7c0b3942ca1ed29",
   "outputs": [
    {
     "data": {
      "text/plain": [
       "'1. Obtain a degree in business administration or related field.\\n2. Gain experience through internships or entry-level positions in business.\\n3. Develop strong communication and problem-solving skills.\\n4. Network with business professionals and seek mentorship.\\n5. Continuously update industry knowledge and stay informed on current trends.'"
      ]
     },
     "execution_count": 73,
     "metadata": {},
     "output_type": "execute_result"
    }
   ],
   "execution_count": 73
  },
  {
   "metadata": {
    "ExecuteTime": {
     "end_time": "2025-07-31T13:20:35.283562Z",
     "start_time": "2025-07-31T13:20:33.085067Z"
    }
   },
   "cell_type": "code",
   "source": [
    "follow_up = chatbot.invoke({\"message\": \"What is my name?\"}, config=config2)\n",
    "follow_up[\"name\"]"
   ],
   "id": "5c3b2ddf990319c7",
   "outputs": [
    {
     "data": {
      "text/plain": [
       "'Ali'"
      ]
     },
     "execution_count": 80,
     "metadata": {},
     "output_type": "execute_result"
    }
   ],
   "execution_count": 80
  },
  {
   "metadata": {},
   "cell_type": "code",
   "outputs": [],
   "execution_count": null,
   "source": "",
   "id": "70b2b4116d8f0f7"
  }
 ],
 "metadata": {
  "kernelspec": {
   "name": "python3",
   "language": "python",
   "display_name": "Python 3 (ipykernel)"
  }
 },
 "nbformat": 5,
 "nbformat_minor": 9
}
